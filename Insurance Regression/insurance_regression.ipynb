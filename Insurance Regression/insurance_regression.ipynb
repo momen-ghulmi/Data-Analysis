{
 "cells": [
  {
   "cell_type": "markdown",
   "metadata": {},
   "source": [
    "# Regression Prediction Notebook"
   ]
  },
  {
   "cell_type": "code",
   "execution_count": 4,
   "metadata": {
    "execution": {
     "iopub.execute_input": "2024-12-25T13:13:01.940641Z",
     "iopub.status.busy": "2024-12-25T13:13:01.940087Z",
     "iopub.status.idle": "2024-12-25T13:13:01.947130Z",
     "shell.execute_reply": "2024-12-25T13:13:01.944993Z",
     "shell.execute_reply.started": "2024-12-25T13:13:01.940596Z"
    },
    "trusted": true
   },
   "outputs": [],
   "source": [
    "file_path = './data/raw/'"
   ]
  },
  {
   "cell_type": "markdown",
   "metadata": {},
   "source": [
    "## Introduction\n",
    "This notebook explores a regression problem using an insurance dataset. The objective is to predict insurance charges based on various features such as age, income, marital status, and health conditions, among others. The notebook will guide you through data preprocessing, model selection, training, evaluation, hyperparameter tuning, and model interpretation.\n"
   ]
  },
  {
   "cell_type": "markdown",
   "metadata": {},
   "source": [
    "## Importing Libraries "
   ]
  },
  {
   "cell_type": "code",
   "execution_count": 2,
   "metadata": {
    "execution": {
     "iopub.execute_input": "2024-12-25T13:13:03.341689Z",
     "iopub.status.busy": "2024-12-25T13:13:03.341233Z",
     "iopub.status.idle": "2024-12-25T13:13:03.357529Z",
     "shell.execute_reply": "2024-12-25T13:13:03.355573Z",
     "shell.execute_reply.started": "2024-12-25T13:13:03.341654Z"
    },
    "trusted": true
   },
   "outputs": [],
   "source": [
    "#importing necessary libraries\n",
    "import numpy as np\n",
    "import pandas as pd\n",
    "import matplotlib.pyplot as plt\n",
    "import seaborn as sns\n",
    "from sklearn.model_selection import train_test_split\n",
    "from sklearn.impute import SimpleImputer\n",
    "\n",
    "from sklearn.linear_model import Lasso, LinearRegression, BayesianRidge, GammaRegressor\n",
    "from sklearn.ensemble import GradientBoostingRegressor, HistGradientBoostingRegressor\n",
    "from sklearn.preprocessing import StandardScaler, MinMaxScaler\n",
    "from sklearn.preprocessing import OneHotEncoder, LabelEncoder, OrdinalEncoder\n",
    "from sklearn.compose import ColumnTransformer\n",
    "from sklearn.metrics import accuracy_score, mean_squared_log_error, mean_squared_error\n",
    "from sklearn.pipeline import Pipeline, make_pipeline\n",
    "import os\n",
    "import datetime as dt\n",
    "from category_encoders import BinaryEncoder\n"
   ]
  },
  {
   "cell_type": "markdown",
   "metadata": {},
   "source": [
    "## Data Preprocessing"
   ]
  },
  {
   "cell_type": "markdown",
   "metadata": {},
   "source": [
    "here we are making a function to clean the data in the data to be able to repeat it on any prediction data, to view the details of the preprocessing please view [insurance_eda](./insurance_eda.ipynb)"
   ]
  },
  {
   "cell_type": "code",
   "execution_count": 20,
   "metadata": {
    "execution": {
     "iopub.execute_input": "2024-12-25T13:13:07.514494Z",
     "iopub.status.busy": "2024-12-25T13:13:07.514036Z",
     "iopub.status.idle": "2024-12-25T13:13:07.522928Z",
     "shell.execute_reply": "2024-12-25T13:13:07.521264Z",
     "shell.execute_reply.started": "2024-12-25T13:13:07.514462Z"
    },
    "trusted": true
   },
   "outputs": [],
   "source": [
    "def fix_data_types(df):\n",
    "    #converting the data types of the columns to the appropriate data types\n",
    "    df['number_of_dependents'] = df['number_of_dependents'].astype(int)\n",
    "    df['credit_score'] = df['credit_score'].astype(int)\n",
    "    df['previous_claims'] = df['previous_claims'].astype(int)\n",
    "    df['insurance_duration'] = df['insurance_duration'].astype(int)\n",
    "    df['vehicle_age'] = df['vehicle_age'].astype(int)\n",
    "    df['age'] = df['age'].astype(int)\n",
    "    \n",
    "    df['gender'] = df['gender'].astype('category')\n",
    "    df['marital_status'] = df['marital_status'].astype('category')\n",
    "    df['education_level'] = df['education_level'].astype('category')\n",
    "    df['occupation'] = df['occupation'].astype('category')\n",
    "    df['customer_feedback'] = df['customer_feedback'].astype('category')\n",
    "    df['policy_type'] = df['policy_type'].astype('category')\n",
    "    df['smoking_status'] = df['smoking_status'].astype('category')\n",
    "    df['exercise_frequency'] = df['exercise_frequency'].astype('category')\n",
    "    df['property_type'] = df['property_type'].astype('category')\n",
    "    df['location'] = df['location'].astype('category')"
   ]
  },
  {
   "cell_type": "code",
   "execution_count": 21,
   "metadata": {
    "execution": {
     "iopub.execute_input": "2024-12-25T13:13:09.062946Z",
     "iopub.status.busy": "2024-12-25T13:13:09.062394Z",
     "iopub.status.idle": "2024-12-25T13:13:09.070293Z",
     "shell.execute_reply": "2024-12-25T13:13:09.068588Z",
     "shell.execute_reply.started": "2024-12-25T13:13:09.062911Z"
    },
    "trusted": true
   },
   "outputs": [],
   "source": [
    "def assert_data_types(df):\n",
    "    #asserting that the data types of the columns are as expected\n",
    "    assert df['number_of_dependents'].dtype == int\n",
    "    assert df['credit_score'].dtype == int\n",
    "    assert df['previous_claims'].dtype == int\n",
    "    assert df['insurance_duration'].dtype == int\n",
    "    assert df['vehicle_age'].dtype == int\n",
    "    assert df['age'].dtype == int\n",
    "    \n",
    "    assert df['gender'].dtype == 'category'\n",
    "    assert df['marital_status'].dtype == 'category'\n",
    "    assert df['education_level'].dtype == 'category'\n",
    "    assert df['occupation'].dtype == 'category'\n",
    "    assert df['customer_feedback'].dtype == 'category'\n",
    "    assert df['policy_type'].dtype == 'category'\n",
    "    assert df['smoking_status'].dtype == 'category'\n",
    "    assert df['exercise_frequency'].dtype == 'category'\n",
    "    assert df['property_type'].dtype == 'category'\n",
    "    assert df['location'].dtype == 'category'"
   ]
  },
  {
   "cell_type": "code",
   "execution_count": 22,
   "metadata": {
    "execution": {
     "iopub.execute_input": "2024-12-25T13:13:09.418616Z",
     "iopub.status.busy": "2024-12-25T13:13:09.418188Z",
     "iopub.status.idle": "2024-12-25T13:13:09.425968Z",
     "shell.execute_reply": "2024-12-25T13:13:09.424543Z",
     "shell.execute_reply.started": "2024-12-25T13:13:09.418583Z"
    },
    "trusted": true
   },
   "outputs": [],
   "source": [
    "def label_encode(df):\n",
    "    le = LabelEncoder()\n",
    "    df['gender'] = le.fit_transform(df['gender'])\n",
    "    df['marital_status'] = le.fit_transform(df['marital_status'])\n",
    "    df['education_level'] = le.fit_transform(df['education_level'])\n",
    "    df['occupation'] = le.fit_transform(df['customer_feedback'])\n",
    "    df['customer_feedback'] = le.fit_transform(df['customer_feedback'])\n",
    "    df['policy_type'] = le.fit_transform(df['policy_type'])\n",
    "    df['smoking_status'] = le.fit_transform(df['smoking_status'])\n",
    "    df['exercise_frequency'] = le.fit_transform(df['exercise_frequency'])\n",
    "    df['property_type'] = le.fit_transform(df['property_type'])\n",
    "    df['location'] = le.fit_transform(df['location'])"
   ]
  },
  {
   "cell_type": "code",
   "execution_count": 23,
   "metadata": {},
   "outputs": [],
   "source": [
    "def convert_date(data):\n",
    "    dates = data[\"policy_start_date\"]\n",
    "    data[\"start_year\"] = dates.apply(lambda x: int(x.year))\n",
    "    data[\"start_month_sin\"] = dates.apply(lambda x: np.sin(int(x.month)*(2.*np.pi/12)) )\n",
    "    data[\"start_month_cos\"] = dates.apply(lambda x: np.cos(int(x.month)*(2.*np.pi/12)) )\n",
    "    data[\"start_day_sin\"] = dates.apply(lambda x: np.sin(int(x.month)*(2.*np.pi/30)) )\n",
    "    data[\"start_day_cos\"] = dates.apply(lambda x: np.cos(int(x.month)*(2.*np.pi/30)) )\n",
    "    data.drop(columns=['policy_start_date'], axis=1, inplace=True)"
   ]
  },
  {
   "cell_type": "code",
   "execution_count": 24,
   "metadata": {},
   "outputs": [],
   "source": [
    "def impute_data(data, category_columns=['property_type', 'policy_type', 'education_level']):\n",
    "    \n",
    "    # Ensure numeric columns are selected, excluding 'premium_amount'\n",
    "    numeric_columns = data.select_dtypes(include=[np.number]).columns\n",
    "\n",
    "\n",
    "    imputer = SimpleImputer(strategy='median')\n",
    "    # Impute missing values by the median value within each group\n",
    "    for value, group in data.groupby(category_columns):\n",
    "        group[numeric_columns] = imputer.fit_transform(group[numeric_columns])\n",
    "        data.loc[group.index] = group\n",
    "    \n",
    "    \n",
    "\n",
    "    return data"
   ]
  },
  {
   "cell_type": "code",
   "execution_count": 25,
   "metadata": {
    "execution": {
     "iopub.execute_input": "2024-12-25T13:13:09.866093Z",
     "iopub.status.busy": "2024-12-25T13:13:09.865680Z",
     "iopub.status.idle": "2024-12-25T13:13:09.873203Z",
     "shell.execute_reply": "2024-12-25T13:13:09.871511Z",
     "shell.execute_reply.started": "2024-12-25T13:13:09.866062Z"
    },
    "trusted": true
   },
   "outputs": [],
   "source": [
    "def clean_data(data): \n",
    "    #dropping the occupation column\n",
    "    data.columns = data.columns.str.lower().str.replace(' ', '_')\n",
    "    categorical_cols = data.select_dtypes(include=['object', 'category']).columns\n",
    "    #imputing missing values\n",
    "    data = impute_data(data)\n",
    "    data[categorical_cols] = SimpleImputer(strategy='most_frequent').fit_transform(data[categorical_cols])\n",
    "    assert data.isnull().sum().sum() == 0\n",
    "    label_encode(data)\n",
    "    convert_date(data)\n",
    "    \n",
    "    #fixing data types\n",
    "    fix_data_types(data)\n",
    "    #asserting data types\n",
    "    assert_data_types(data)\n",
    "    return data"
   ]
  },
  {
   "cell_type": "markdown",
   "metadata": {
    "vscode": {
     "languageId": "markdown"
    }
   },
   "source": [
    "## Model Selection and Training\n",
    "- Choose regression models (e.g., Linear Regression, Decision Tree, Random Forest)\n",
    "- Train the models on the training set\n",
    "- Evaluate the models using cross-validation"
   ]
  },
  {
   "cell_type": "markdown",
   "metadata": {},
   "source": [
    "#### loading the data"
   ]
  },
  {
   "cell_type": "code",
   "execution_count": 26,
   "metadata": {},
   "outputs": [],
   "source": [
    "df = pd.read_csv(os.path.join(file_path, 'train.csv'), parse_dates=['Policy Start Date'])"
   ]
  },
  {
   "cell_type": "markdown",
   "metadata": {},
   "source": [
    "#### cleaning the data"
   ]
  },
  {
   "cell_type": "code",
   "execution_count": 27,
   "metadata": {
    "execution": {
     "iopub.execute_input": "2024-12-25T13:13:12.217304Z",
     "iopub.status.busy": "2024-12-25T13:13:12.216910Z",
     "iopub.status.idle": "2024-12-25T13:13:23.080461Z",
     "shell.execute_reply": "2024-12-25T13:13:23.079281Z",
     "shell.execute_reply.started": "2024-12-25T13:13:12.217272Z"
    },
    "trusted": true
   },
   "outputs": [],
   "source": [
    "df_clean = clean_data(df)"
   ]
  },
  {
   "cell_type": "code",
   "execution_count": 28,
   "metadata": {
    "execution": {
     "iopub.execute_input": "2024-12-25T13:13:23.082272Z",
     "iopub.status.busy": "2024-12-25T13:13:23.081982Z",
     "iopub.status.idle": "2024-12-25T13:13:23.089458Z",
     "shell.execute_reply": "2024-12-25T13:13:23.088108Z",
     "shell.execute_reply.started": "2024-12-25T13:13:23.082246Z"
    },
    "trusted": true
   },
   "outputs": [
    {
     "data": {
      "text/plain": [
       "id                         int64\n",
       "age                        int64\n",
       "gender                  category\n",
       "annual_income            float64\n",
       "marital_status          category\n",
       "number_of_dependents       int64\n",
       "education_level         category\n",
       "occupation              category\n",
       "health_score             float64\n",
       "location                category\n",
       "policy_type             category\n",
       "previous_claims            int64\n",
       "vehicle_age                int64\n",
       "credit_score               int64\n",
       "insurance_duration         int64\n",
       "customer_feedback       category\n",
       "smoking_status          category\n",
       "exercise_frequency      category\n",
       "property_type           category\n",
       "premium_amount           float64\n",
       "start_year                 int64\n",
       "start_month_sin          float64\n",
       "start_month_cos          float64\n",
       "start_day_sin            float64\n",
       "start_day_cos            float64\n",
       "dtype: object"
      ]
     },
     "execution_count": 28,
     "metadata": {},
     "output_type": "execute_result"
    }
   ],
   "source": [
    "df_clean.dtypes"
   ]
  },
  {
   "cell_type": "markdown",
   "metadata": {},
   "source": [
    "#### splitting the data"
   ]
  },
  {
   "cell_type": "code",
   "execution_count": 29,
   "metadata": {
    "execution": {
     "iopub.execute_input": "2024-12-25T13:13:23.112695Z",
     "iopub.status.busy": "2024-12-25T13:13:23.112312Z",
     "iopub.status.idle": "2024-12-25T13:13:23.475149Z",
     "shell.execute_reply": "2024-12-25T13:13:23.474002Z",
     "shell.execute_reply.started": "2024-12-25T13:13:23.112665Z"
    },
    "trusted": true
   },
   "outputs": [],
   "source": [
    "# splitting the data into features and target\n",
    "train_x, test_x, train_y, test_y = train_test_split(df_clean.drop(columns=['premium_amount', 'id'], axis=1), df_clean['premium_amount'], test_size=0.18, random_state=50)"
   ]
  },
  {
   "cell_type": "code",
   "execution_count": 30,
   "metadata": {
    "execution": {
     "iopub.execute_input": "2024-12-25T13:13:23.476667Z",
     "iopub.status.busy": "2024-12-25T13:13:23.476265Z",
     "iopub.status.idle": "2024-12-25T13:13:23.492874Z",
     "shell.execute_reply": "2024-12-25T13:13:23.491727Z",
     "shell.execute_reply.started": "2024-12-25T13:13:23.476628Z"
    },
    "trusted": true
   },
   "outputs": [
    {
     "data": {
      "text/html": [
       "<div>\n",
       "<style scoped>\n",
       "    .dataframe tbody tr th:only-of-type {\n",
       "        vertical-align: middle;\n",
       "    }\n",
       "\n",
       "    .dataframe tbody tr th {\n",
       "        vertical-align: top;\n",
       "    }\n",
       "\n",
       "    .dataframe thead th {\n",
       "        text-align: right;\n",
       "    }\n",
       "</style>\n",
       "<table border=\"1\" class=\"dataframe\">\n",
       "  <thead>\n",
       "    <tr style=\"text-align: right;\">\n",
       "      <th></th>\n",
       "      <th>age</th>\n",
       "      <th>gender</th>\n",
       "      <th>annual_income</th>\n",
       "      <th>marital_status</th>\n",
       "      <th>number_of_dependents</th>\n",
       "      <th>education_level</th>\n",
       "      <th>occupation</th>\n",
       "      <th>health_score</th>\n",
       "      <th>location</th>\n",
       "      <th>policy_type</th>\n",
       "      <th>...</th>\n",
       "      <th>insurance_duration</th>\n",
       "      <th>customer_feedback</th>\n",
       "      <th>smoking_status</th>\n",
       "      <th>exercise_frequency</th>\n",
       "      <th>property_type</th>\n",
       "      <th>start_year</th>\n",
       "      <th>start_month_sin</th>\n",
       "      <th>start_month_cos</th>\n",
       "      <th>start_day_sin</th>\n",
       "      <th>start_day_cos</th>\n",
       "    </tr>\n",
       "  </thead>\n",
       "  <tbody>\n",
       "    <tr>\n",
       "      <th>188975</th>\n",
       "      <td>26</td>\n",
       "      <td>0</td>\n",
       "      <td>103901.0</td>\n",
       "      <td>1</td>\n",
       "      <td>0</td>\n",
       "      <td>3</td>\n",
       "      <td>1</td>\n",
       "      <td>9.990982</td>\n",
       "      <td>1</td>\n",
       "      <td>0</td>\n",
       "      <td>...</td>\n",
       "      <td>6</td>\n",
       "      <td>1</td>\n",
       "      <td>1</td>\n",
       "      <td>3</td>\n",
       "      <td>2</td>\n",
       "      <td>2022</td>\n",
       "      <td>5.000000e-01</td>\n",
       "      <td>-0.866025</td>\n",
       "      <td>0.866025</td>\n",
       "      <td>0.500000</td>\n",
       "    </tr>\n",
       "    <tr>\n",
       "      <th>882899</th>\n",
       "      <td>24</td>\n",
       "      <td>1</td>\n",
       "      <td>1365.0</td>\n",
       "      <td>1</td>\n",
       "      <td>3</td>\n",
       "      <td>3</td>\n",
       "      <td>2</td>\n",
       "      <td>24.812165</td>\n",
       "      <td>1</td>\n",
       "      <td>0</td>\n",
       "      <td>...</td>\n",
       "      <td>1</td>\n",
       "      <td>2</td>\n",
       "      <td>0</td>\n",
       "      <td>0</td>\n",
       "      <td>0</td>\n",
       "      <td>2023</td>\n",
       "      <td>-2.449294e-16</td>\n",
       "      <td>1.000000</td>\n",
       "      <td>0.587785</td>\n",
       "      <td>-0.809017</td>\n",
       "    </tr>\n",
       "    <tr>\n",
       "      <th>410229</th>\n",
       "      <td>59</td>\n",
       "      <td>1</td>\n",
       "      <td>1226.0</td>\n",
       "      <td>1</td>\n",
       "      <td>3</td>\n",
       "      <td>3</td>\n",
       "      <td>0</td>\n",
       "      <td>28.443072</td>\n",
       "      <td>0</td>\n",
       "      <td>1</td>\n",
       "      <td>...</td>\n",
       "      <td>3</td>\n",
       "      <td>0</td>\n",
       "      <td>0</td>\n",
       "      <td>2</td>\n",
       "      <td>1</td>\n",
       "      <td>2023</td>\n",
       "      <td>1.224647e-16</td>\n",
       "      <td>-1.000000</td>\n",
       "      <td>0.951057</td>\n",
       "      <td>0.309017</td>\n",
       "    </tr>\n",
       "    <tr>\n",
       "      <th>547418</th>\n",
       "      <td>51</td>\n",
       "      <td>0</td>\n",
       "      <td>12091.0</td>\n",
       "      <td>1</td>\n",
       "      <td>1</td>\n",
       "      <td>1</td>\n",
       "      <td>1</td>\n",
       "      <td>24.482584</td>\n",
       "      <td>2</td>\n",
       "      <td>1</td>\n",
       "      <td>...</td>\n",
       "      <td>4</td>\n",
       "      <td>1</td>\n",
       "      <td>1</td>\n",
       "      <td>3</td>\n",
       "      <td>0</td>\n",
       "      <td>2021</td>\n",
       "      <td>-5.000000e-01</td>\n",
       "      <td>-0.866025</td>\n",
       "      <td>0.994522</td>\n",
       "      <td>0.104528</td>\n",
       "    </tr>\n",
       "    <tr>\n",
       "      <th>209201</th>\n",
       "      <td>64</td>\n",
       "      <td>0</td>\n",
       "      <td>2840.0</td>\n",
       "      <td>0</td>\n",
       "      <td>2</td>\n",
       "      <td>0</td>\n",
       "      <td>0</td>\n",
       "      <td>8.982331</td>\n",
       "      <td>1</td>\n",
       "      <td>1</td>\n",
       "      <td>...</td>\n",
       "      <td>2</td>\n",
       "      <td>0</td>\n",
       "      <td>1</td>\n",
       "      <td>1</td>\n",
       "      <td>0</td>\n",
       "      <td>2020</td>\n",
       "      <td>8.660254e-01</td>\n",
       "      <td>-0.500000</td>\n",
       "      <td>0.743145</td>\n",
       "      <td>0.669131</td>\n",
       "    </tr>\n",
       "  </tbody>\n",
       "</table>\n",
       "<p>5 rows × 23 columns</p>\n",
       "</div>"
      ],
      "text/plain": [
       "        age gender  annual_income marital_status  number_of_dependents  \\\n",
       "188975   26      0       103901.0              1                     0   \n",
       "882899   24      1         1365.0              1                     3   \n",
       "410229   59      1         1226.0              1                     3   \n",
       "547418   51      0        12091.0              1                     1   \n",
       "209201   64      0         2840.0              0                     2   \n",
       "\n",
       "       education_level occupation  health_score location policy_type  ...  \\\n",
       "188975               3          1      9.990982        1           0  ...   \n",
       "882899               3          2     24.812165        1           0  ...   \n",
       "410229               3          0     28.443072        0           1  ...   \n",
       "547418               1          1     24.482584        2           1  ...   \n",
       "209201               0          0      8.982331        1           1  ...   \n",
       "\n",
       "        insurance_duration  customer_feedback  smoking_status  \\\n",
       "188975                   6                  1               1   \n",
       "882899                   1                  2               0   \n",
       "410229                   3                  0               0   \n",
       "547418                   4                  1               1   \n",
       "209201                   2                  0               1   \n",
       "\n",
       "        exercise_frequency property_type start_year start_month_sin  \\\n",
       "188975                   3             2       2022    5.000000e-01   \n",
       "882899                   0             0       2023   -2.449294e-16   \n",
       "410229                   2             1       2023    1.224647e-16   \n",
       "547418                   3             0       2021   -5.000000e-01   \n",
       "209201                   1             0       2020    8.660254e-01   \n",
       "\n",
       "       start_month_cos  start_day_sin  start_day_cos  \n",
       "188975       -0.866025       0.866025       0.500000  \n",
       "882899        1.000000       0.587785      -0.809017  \n",
       "410229       -1.000000       0.951057       0.309017  \n",
       "547418       -0.866025       0.994522       0.104528  \n",
       "209201       -0.500000       0.743145       0.669131  \n",
       "\n",
       "[5 rows x 23 columns]"
      ]
     },
     "execution_count": 30,
     "metadata": {},
     "output_type": "execute_result"
    }
   ],
   "source": [
    "train_x.head()"
   ]
  },
  {
   "cell_type": "code",
   "execution_count": 31,
   "metadata": {
    "execution": {
     "iopub.execute_input": "2024-12-25T13:19:27.630910Z",
     "iopub.status.busy": "2024-12-25T13:19:27.629920Z",
     "iopub.status.idle": "2024-12-25T13:19:27.646876Z",
     "shell.execute_reply": "2024-12-25T13:19:27.644666Z",
     "shell.execute_reply.started": "2024-12-25T13:19:27.630828Z"
    },
    "trusted": true
   },
   "outputs": [
    {
     "data": {
      "text/plain": [
       "age                        int64\n",
       "gender                  category\n",
       "annual_income            float64\n",
       "marital_status          category\n",
       "number_of_dependents       int64\n",
       "education_level         category\n",
       "occupation              category\n",
       "health_score             float64\n",
       "location                category\n",
       "policy_type             category\n",
       "previous_claims            int64\n",
       "vehicle_age                int64\n",
       "credit_score               int64\n",
       "insurance_duration         int64\n",
       "customer_feedback       category\n",
       "smoking_status          category\n",
       "exercise_frequency      category\n",
       "property_type           category\n",
       "start_year                 int64\n",
       "start_month_sin          float64\n",
       "start_month_cos          float64\n",
       "start_day_sin            float64\n",
       "start_day_cos            float64\n",
       "dtype: object"
      ]
     },
     "execution_count": 31,
     "metadata": {},
     "output_type": "execute_result"
    }
   ],
   "source": [
    "train_x.dtypes"
   ]
  },
  {
   "cell_type": "markdown",
   "metadata": {},
   "source": [
    "#### training the model"
   ]
  },
  {
   "cell_type": "code",
   "execution_count": 40,
   "metadata": {},
   "outputs": [
    {
     "data": {
      "text/plain": [
       "1.3100352386750207"
      ]
     },
     "execution_count": 40,
     "metadata": {},
     "output_type": "execute_result"
    }
   ],
   "source": [
    "# training a HistGradientBoostingRegressor on the data\n",
    "# trans_test = pd.DataFrame(column_transformer.fit_transform(test_x), columns=test_x.columns)\n",
    "regressor = HistGradientBoostingRegressor(categorical_features='from_dtype', max_leaf_nodes=250, max_iter=500, max_features=0.7)\n",
    "regressor.fit(train_x, train_y)\n",
    "mean_squared_log_error(test_y, regressor.predict(test_x))"
   ]
  },
  {
   "cell_type": "markdown",
   "metadata": {},
   "source": [
    "### Applying the Regression to test data"
   ]
  },
  {
   "cell_type": "markdown",
   "metadata": {},
   "source": [
    "#### loading the test data"
   ]
  },
  {
   "cell_type": "code",
   "execution_count": 33,
   "metadata": {},
   "outputs": [
    {
     "data": {
      "text/html": [
       "<div>\n",
       "<style scoped>\n",
       "    .dataframe tbody tr th:only-of-type {\n",
       "        vertical-align: middle;\n",
       "    }\n",
       "\n",
       "    .dataframe tbody tr th {\n",
       "        vertical-align: top;\n",
       "    }\n",
       "\n",
       "    .dataframe thead th {\n",
       "        text-align: right;\n",
       "    }\n",
       "</style>\n",
       "<table border=\"1\" class=\"dataframe\">\n",
       "  <thead>\n",
       "    <tr style=\"text-align: right;\">\n",
       "      <th></th>\n",
       "      <th>id</th>\n",
       "      <th>Age</th>\n",
       "      <th>Gender</th>\n",
       "      <th>Annual Income</th>\n",
       "      <th>Marital Status</th>\n",
       "      <th>Number of Dependents</th>\n",
       "      <th>Education Level</th>\n",
       "      <th>Occupation</th>\n",
       "      <th>Health Score</th>\n",
       "      <th>Location</th>\n",
       "      <th>Policy Type</th>\n",
       "      <th>Previous Claims</th>\n",
       "      <th>Vehicle Age</th>\n",
       "      <th>Credit Score</th>\n",
       "      <th>Insurance Duration</th>\n",
       "      <th>Policy Start Date</th>\n",
       "      <th>Customer Feedback</th>\n",
       "      <th>Smoking Status</th>\n",
       "      <th>Exercise Frequency</th>\n",
       "      <th>Property Type</th>\n",
       "    </tr>\n",
       "  </thead>\n",
       "  <tbody>\n",
       "    <tr>\n",
       "      <th>0</th>\n",
       "      <td>1200000</td>\n",
       "      <td>28.0</td>\n",
       "      <td>Female</td>\n",
       "      <td>2310.0</td>\n",
       "      <td>NaN</td>\n",
       "      <td>4.0</td>\n",
       "      <td>Bachelor's</td>\n",
       "      <td>Self-Employed</td>\n",
       "      <td>7.657981</td>\n",
       "      <td>Rural</td>\n",
       "      <td>Basic</td>\n",
       "      <td>NaN</td>\n",
       "      <td>19.0</td>\n",
       "      <td>NaN</td>\n",
       "      <td>1.0</td>\n",
       "      <td>2023-06-04 15:21:39.245086</td>\n",
       "      <td>Poor</td>\n",
       "      <td>Yes</td>\n",
       "      <td>Weekly</td>\n",
       "      <td>House</td>\n",
       "    </tr>\n",
       "    <tr>\n",
       "      <th>1</th>\n",
       "      <td>1200001</td>\n",
       "      <td>31.0</td>\n",
       "      <td>Female</td>\n",
       "      <td>126031.0</td>\n",
       "      <td>Married</td>\n",
       "      <td>2.0</td>\n",
       "      <td>Master's</td>\n",
       "      <td>Self-Employed</td>\n",
       "      <td>13.381379</td>\n",
       "      <td>Suburban</td>\n",
       "      <td>Premium</td>\n",
       "      <td>NaN</td>\n",
       "      <td>14.0</td>\n",
       "      <td>372.0</td>\n",
       "      <td>8.0</td>\n",
       "      <td>2024-04-22 15:21:39.224915</td>\n",
       "      <td>Good</td>\n",
       "      <td>Yes</td>\n",
       "      <td>Rarely</td>\n",
       "      <td>Apartment</td>\n",
       "    </tr>\n",
       "    <tr>\n",
       "      <th>2</th>\n",
       "      <td>1200002</td>\n",
       "      <td>47.0</td>\n",
       "      <td>Female</td>\n",
       "      <td>17092.0</td>\n",
       "      <td>Divorced</td>\n",
       "      <td>0.0</td>\n",
       "      <td>PhD</td>\n",
       "      <td>Unemployed</td>\n",
       "      <td>24.354527</td>\n",
       "      <td>Urban</td>\n",
       "      <td>Comprehensive</td>\n",
       "      <td>NaN</td>\n",
       "      <td>16.0</td>\n",
       "      <td>819.0</td>\n",
       "      <td>9.0</td>\n",
       "      <td>2023-04-05 15:21:39.134960</td>\n",
       "      <td>Average</td>\n",
       "      <td>Yes</td>\n",
       "      <td>Monthly</td>\n",
       "      <td>Condo</td>\n",
       "    </tr>\n",
       "    <tr>\n",
       "      <th>3</th>\n",
       "      <td>1200003</td>\n",
       "      <td>28.0</td>\n",
       "      <td>Female</td>\n",
       "      <td>30424.0</td>\n",
       "      <td>Divorced</td>\n",
       "      <td>3.0</td>\n",
       "      <td>PhD</td>\n",
       "      <td>Self-Employed</td>\n",
       "      <td>5.136225</td>\n",
       "      <td>Suburban</td>\n",
       "      <td>Comprehensive</td>\n",
       "      <td>1.0</td>\n",
       "      <td>3.0</td>\n",
       "      <td>770.0</td>\n",
       "      <td>5.0</td>\n",
       "      <td>2023-10-25 15:21:39.134960</td>\n",
       "      <td>Poor</td>\n",
       "      <td>Yes</td>\n",
       "      <td>Daily</td>\n",
       "      <td>House</td>\n",
       "    </tr>\n",
       "    <tr>\n",
       "      <th>4</th>\n",
       "      <td>1200004</td>\n",
       "      <td>24.0</td>\n",
       "      <td>Male</td>\n",
       "      <td>10863.0</td>\n",
       "      <td>Divorced</td>\n",
       "      <td>2.0</td>\n",
       "      <td>High School</td>\n",
       "      <td>Unemployed</td>\n",
       "      <td>11.844155</td>\n",
       "      <td>Suburban</td>\n",
       "      <td>Premium</td>\n",
       "      <td>NaN</td>\n",
       "      <td>14.0</td>\n",
       "      <td>755.0</td>\n",
       "      <td>7.0</td>\n",
       "      <td>2021-11-26 15:21:39.259788</td>\n",
       "      <td>Average</td>\n",
       "      <td>No</td>\n",
       "      <td>Weekly</td>\n",
       "      <td>House</td>\n",
       "    </tr>\n",
       "  </tbody>\n",
       "</table>\n",
       "</div>"
      ],
      "text/plain": [
       "        id   Age  Gender  Annual Income Marital Status  Number of Dependents  \\\n",
       "0  1200000  28.0  Female         2310.0            NaN                   4.0   \n",
       "1  1200001  31.0  Female       126031.0        Married                   2.0   \n",
       "2  1200002  47.0  Female        17092.0       Divorced                   0.0   \n",
       "3  1200003  28.0  Female        30424.0       Divorced                   3.0   \n",
       "4  1200004  24.0    Male        10863.0       Divorced                   2.0   \n",
       "\n",
       "  Education Level     Occupation  Health Score  Location    Policy Type  \\\n",
       "0      Bachelor's  Self-Employed      7.657981     Rural          Basic   \n",
       "1        Master's  Self-Employed     13.381379  Suburban        Premium   \n",
       "2             PhD     Unemployed     24.354527     Urban  Comprehensive   \n",
       "3             PhD  Self-Employed      5.136225  Suburban  Comprehensive   \n",
       "4     High School     Unemployed     11.844155  Suburban        Premium   \n",
       "\n",
       "   Previous Claims  Vehicle Age  Credit Score  Insurance Duration  \\\n",
       "0              NaN         19.0           NaN                 1.0   \n",
       "1              NaN         14.0         372.0                 8.0   \n",
       "2              NaN         16.0         819.0                 9.0   \n",
       "3              1.0          3.0         770.0                 5.0   \n",
       "4              NaN         14.0         755.0                 7.0   \n",
       "\n",
       "           Policy Start Date Customer Feedback Smoking Status  \\\n",
       "0 2023-06-04 15:21:39.245086              Poor            Yes   \n",
       "1 2024-04-22 15:21:39.224915              Good            Yes   \n",
       "2 2023-04-05 15:21:39.134960           Average            Yes   \n",
       "3 2023-10-25 15:21:39.134960              Poor            Yes   \n",
       "4 2021-11-26 15:21:39.259788           Average             No   \n",
       "\n",
       "  Exercise Frequency Property Type  \n",
       "0             Weekly         House  \n",
       "1             Rarely     Apartment  \n",
       "2            Monthly         Condo  \n",
       "3              Daily         House  \n",
       "4             Weekly         House  "
      ]
     },
     "execution_count": 33,
     "metadata": {},
     "output_type": "execute_result"
    }
   ],
   "source": [
    "test_df = pd.read_csv(os.path.join(file_path, 'test.csv'), parse_dates=['Policy Start Date'])\n",
    "test_df.head()"
   ]
  },
  {
   "cell_type": "markdown",
   "metadata": {},
   "source": [
    "#### cleaning the test data"
   ]
  },
  {
   "cell_type": "code",
   "execution_count": 42,
   "metadata": {},
   "outputs": [
    {
     "data": {
      "text/html": [
       "<div>\n",
       "<style scoped>\n",
       "    .dataframe tbody tr th:only-of-type {\n",
       "        vertical-align: middle;\n",
       "    }\n",
       "\n",
       "    .dataframe tbody tr th {\n",
       "        vertical-align: top;\n",
       "    }\n",
       "\n",
       "    .dataframe thead th {\n",
       "        text-align: right;\n",
       "    }\n",
       "</style>\n",
       "<table border=\"1\" class=\"dataframe\">\n",
       "  <thead>\n",
       "    <tr style=\"text-align: right;\">\n",
       "      <th></th>\n",
       "      <th>id</th>\n",
       "      <th>age</th>\n",
       "      <th>gender</th>\n",
       "      <th>annual_income</th>\n",
       "      <th>marital_status</th>\n",
       "      <th>number_of_dependents</th>\n",
       "      <th>education_level</th>\n",
       "      <th>occupation</th>\n",
       "      <th>health_score</th>\n",
       "      <th>location</th>\n",
       "      <th>...</th>\n",
       "      <th>insurance_duration</th>\n",
       "      <th>customer_feedback</th>\n",
       "      <th>smoking_status</th>\n",
       "      <th>exercise_frequency</th>\n",
       "      <th>property_type</th>\n",
       "      <th>start_year</th>\n",
       "      <th>start_month_sin</th>\n",
       "      <th>start_month_cos</th>\n",
       "      <th>start_day_sin</th>\n",
       "      <th>start_day_cos</th>\n",
       "    </tr>\n",
       "  </thead>\n",
       "  <tbody>\n",
       "    <tr>\n",
       "      <th>0</th>\n",
       "      <td>1200000</td>\n",
       "      <td>28</td>\n",
       "      <td>0</td>\n",
       "      <td>2310.0</td>\n",
       "      <td>2</td>\n",
       "      <td>4</td>\n",
       "      <td>0</td>\n",
       "      <td>2</td>\n",
       "      <td>7.657981</td>\n",
       "      <td>0</td>\n",
       "      <td>...</td>\n",
       "      <td>1</td>\n",
       "      <td>2</td>\n",
       "      <td>1</td>\n",
       "      <td>3</td>\n",
       "      <td>2</td>\n",
       "      <td>2023</td>\n",
       "      <td>1.224647e-16</td>\n",
       "      <td>-1.000000</td>\n",
       "      <td>0.951057</td>\n",
       "      <td>0.309017</td>\n",
       "    </tr>\n",
       "    <tr>\n",
       "      <th>1</th>\n",
       "      <td>1200001</td>\n",
       "      <td>31</td>\n",
       "      <td>0</td>\n",
       "      <td>126031.0</td>\n",
       "      <td>1</td>\n",
       "      <td>2</td>\n",
       "      <td>2</td>\n",
       "      <td>1</td>\n",
       "      <td>13.381379</td>\n",
       "      <td>1</td>\n",
       "      <td>...</td>\n",
       "      <td>8</td>\n",
       "      <td>1</td>\n",
       "      <td>1</td>\n",
       "      <td>2</td>\n",
       "      <td>0</td>\n",
       "      <td>2024</td>\n",
       "      <td>8.660254e-01</td>\n",
       "      <td>-0.500000</td>\n",
       "      <td>0.743145</td>\n",
       "      <td>0.669131</td>\n",
       "    </tr>\n",
       "    <tr>\n",
       "      <th>2</th>\n",
       "      <td>1200002</td>\n",
       "      <td>47</td>\n",
       "      <td>0</td>\n",
       "      <td>17092.0</td>\n",
       "      <td>0</td>\n",
       "      <td>0</td>\n",
       "      <td>3</td>\n",
       "      <td>0</td>\n",
       "      <td>24.354527</td>\n",
       "      <td>2</td>\n",
       "      <td>...</td>\n",
       "      <td>9</td>\n",
       "      <td>0</td>\n",
       "      <td>1</td>\n",
       "      <td>1</td>\n",
       "      <td>1</td>\n",
       "      <td>2023</td>\n",
       "      <td>8.660254e-01</td>\n",
       "      <td>-0.500000</td>\n",
       "      <td>0.743145</td>\n",
       "      <td>0.669131</td>\n",
       "    </tr>\n",
       "    <tr>\n",
       "      <th>3</th>\n",
       "      <td>1200003</td>\n",
       "      <td>28</td>\n",
       "      <td>0</td>\n",
       "      <td>30424.0</td>\n",
       "      <td>0</td>\n",
       "      <td>3</td>\n",
       "      <td>3</td>\n",
       "      <td>2</td>\n",
       "      <td>5.136225</td>\n",
       "      <td>1</td>\n",
       "      <td>...</td>\n",
       "      <td>5</td>\n",
       "      <td>2</td>\n",
       "      <td>1</td>\n",
       "      <td>0</td>\n",
       "      <td>2</td>\n",
       "      <td>2023</td>\n",
       "      <td>-8.660254e-01</td>\n",
       "      <td>0.500000</td>\n",
       "      <td>0.866025</td>\n",
       "      <td>-0.500000</td>\n",
       "    </tr>\n",
       "    <tr>\n",
       "      <th>4</th>\n",
       "      <td>1200004</td>\n",
       "      <td>24</td>\n",
       "      <td>1</td>\n",
       "      <td>10863.0</td>\n",
       "      <td>0</td>\n",
       "      <td>2</td>\n",
       "      <td>1</td>\n",
       "      <td>0</td>\n",
       "      <td>11.844155</td>\n",
       "      <td>1</td>\n",
       "      <td>...</td>\n",
       "      <td>7</td>\n",
       "      <td>0</td>\n",
       "      <td>0</td>\n",
       "      <td>3</td>\n",
       "      <td>2</td>\n",
       "      <td>2021</td>\n",
       "      <td>-5.000000e-01</td>\n",
       "      <td>0.866025</td>\n",
       "      <td>0.743145</td>\n",
       "      <td>-0.669131</td>\n",
       "    </tr>\n",
       "  </tbody>\n",
       "</table>\n",
       "<p>5 rows × 24 columns</p>\n",
       "</div>"
      ],
      "text/plain": [
       "        id  age gender  annual_income marital_status  number_of_dependents  \\\n",
       "0  1200000   28      0         2310.0              2                     4   \n",
       "1  1200001   31      0       126031.0              1                     2   \n",
       "2  1200002   47      0        17092.0              0                     0   \n",
       "3  1200003   28      0        30424.0              0                     3   \n",
       "4  1200004   24      1        10863.0              0                     2   \n",
       "\n",
       "  education_level occupation  health_score location  ... insurance_duration  \\\n",
       "0               0          2      7.657981        0  ...                  1   \n",
       "1               2          1     13.381379        1  ...                  8   \n",
       "2               3          0     24.354527        2  ...                  9   \n",
       "3               3          2      5.136225        1  ...                  5   \n",
       "4               1          0     11.844155        1  ...                  7   \n",
       "\n",
       "   customer_feedback  smoking_status  exercise_frequency  property_type  \\\n",
       "0                  2               1                   3              2   \n",
       "1                  1               1                   2              0   \n",
       "2                  0               1                   1              1   \n",
       "3                  2               1                   0              2   \n",
       "4                  0               0                   3              2   \n",
       "\n",
       "  start_year start_month_sin start_month_cos start_day_sin  start_day_cos  \n",
       "0       2023    1.224647e-16       -1.000000      0.951057       0.309017  \n",
       "1       2024    8.660254e-01       -0.500000      0.743145       0.669131  \n",
       "2       2023    8.660254e-01       -0.500000      0.743145       0.669131  \n",
       "3       2023   -8.660254e-01        0.500000      0.866025      -0.500000  \n",
       "4       2021   -5.000000e-01        0.866025      0.743145      -0.669131  \n",
       "\n",
       "[5 rows x 24 columns]"
      ]
     },
     "execution_count": 42,
     "metadata": {},
     "output_type": "execute_result"
    }
   ],
   "source": [
    "test_clean = clean_data(test_df)\n",
    "test_clean.head()"
   ]
  },
  {
   "cell_type": "code",
   "execution_count": 43,
   "metadata": {},
   "outputs": [],
   "source": [
    "ids = test_clean['id']\n",
    "test_clean.drop(columns=['id'], axis=1, inplace=True)"
   ]
  },
  {
   "cell_type": "markdown",
   "metadata": {},
   "source": [
    "#### predicting premium amount"
   ]
  },
  {
   "cell_type": "code",
   "execution_count": 44,
   "metadata": {},
   "outputs": [],
   "source": [
    "prediction = regressor.predict(test_clean)"
   ]
  },
  {
   "cell_type": "markdown",
   "metadata": {},
   "source": [
    "#### saving the data into a csv file"
   ]
  },
  {
   "cell_type": "code",
   "execution_count": 45,
   "metadata": {},
   "outputs": [],
   "source": [
    "#merge prediction with id\n",
    "result = ids.to_frame()"
   ]
  },
  {
   "cell_type": "code",
   "execution_count": 46,
   "metadata": {},
   "outputs": [],
   "source": [
    "result.insert(1, 'Premium Amount', prediction)"
   ]
  },
  {
   "cell_type": "code",
   "execution_count": 47,
   "metadata": {},
   "outputs": [
    {
     "data": {
      "text/html": [
       "<div>\n",
       "<style scoped>\n",
       "    .dataframe tbody tr th:only-of-type {\n",
       "        vertical-align: middle;\n",
       "    }\n",
       "\n",
       "    .dataframe tbody tr th {\n",
       "        vertical-align: top;\n",
       "    }\n",
       "\n",
       "    .dataframe thead th {\n",
       "        text-align: right;\n",
       "    }\n",
       "</style>\n",
       "<table border=\"1\" class=\"dataframe\">\n",
       "  <thead>\n",
       "    <tr style=\"text-align: right;\">\n",
       "      <th></th>\n",
       "      <th>id</th>\n",
       "      <th>Premium Amount</th>\n",
       "    </tr>\n",
       "  </thead>\n",
       "  <tbody>\n",
       "    <tr>\n",
       "      <th>0</th>\n",
       "      <td>1200000</td>\n",
       "      <td>1568.460035</td>\n",
       "    </tr>\n",
       "    <tr>\n",
       "      <th>1</th>\n",
       "      <td>1200001</td>\n",
       "      <td>1136.308638</td>\n",
       "    </tr>\n",
       "    <tr>\n",
       "      <th>2</th>\n",
       "      <td>1200002</td>\n",
       "      <td>1089.221314</td>\n",
       "    </tr>\n",
       "    <tr>\n",
       "      <th>3</th>\n",
       "      <td>1200003</td>\n",
       "      <td>1072.135140</td>\n",
       "    </tr>\n",
       "    <tr>\n",
       "      <th>4</th>\n",
       "      <td>1200004</td>\n",
       "      <td>1047.894551</td>\n",
       "    </tr>\n",
       "  </tbody>\n",
       "</table>\n",
       "</div>"
      ],
      "text/plain": [
       "        id  Premium Amount\n",
       "0  1200000     1568.460035\n",
       "1  1200001     1136.308638\n",
       "2  1200002     1089.221314\n",
       "3  1200003     1072.135140\n",
       "4  1200004     1047.894551"
      ]
     },
     "execution_count": 47,
     "metadata": {},
     "output_type": "execute_result"
    }
   ],
   "source": [
    "result.head()"
   ]
  },
  {
   "cell_type": "code",
   "execution_count": 49,
   "metadata": {},
   "outputs": [],
   "source": [
    "result.to_csv(os.path.join('./data/clean/', 'submission.csv'), index=False)"
   ]
  },
  {
   "cell_type": "code",
   "execution_count": null,
   "metadata": {},
   "outputs": [],
   "source": []
  }
 ],
 "metadata": {
  "kaggle": {
   "accelerator": "none",
   "dataSources": [
    {
     "databundleVersionId": 10305135,
     "sourceId": 84896,
     "sourceType": "competition"
    }
   ],
   "dockerImageVersionId": 30822,
   "isGpuEnabled": false,
   "isInternetEnabled": true,
   "language": "python",
   "sourceType": "notebook"
  },
  "kernelspec": {
   "display_name": "venv",
   "language": "python",
   "name": "python3"
  },
  "language_info": {
   "codemirror_mode": {
    "name": "ipython",
    "version": 3
   },
   "file_extension": ".py",
   "mimetype": "text/x-python",
   "name": "python",
   "nbconvert_exporter": "python",
   "pygments_lexer": "ipython3",
   "version": "3.12.8"
  }
 },
 "nbformat": 4,
 "nbformat_minor": 4
}
